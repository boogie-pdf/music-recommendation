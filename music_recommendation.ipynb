{
  "nbformat": 4,
  "nbformat_minor": 0,
  "metadata": {
    "colab": {
      "provenance": [],
      "gpuType": "T4"
    },
    "kernelspec": {
      "name": "python3",
      "display_name": "Python 3"
    },
    "language_info": {
      "name": "python"
    },
    "accelerator": "GPU"
  },
  "cells": [
    {
      "cell_type": "markdown",
      "source": [
        "## STEP 1: Install Libraries"
      ],
      "metadata": {
        "id": "VHQUqSp61fx6"
      }
    },
    {
      "cell_type": "code",
      "source": [
        "!pip install spotipy requests kagglehub"
      ],
      "metadata": {
        "colab": {
          "base_uri": "https://localhost:8080/"
        },
        "id": "PLCkpIQ11goM",
        "outputId": "23e595a8-1e77-4a75-c2d6-71455403c5dc"
      },
      "execution_count": 1,
      "outputs": [
        {
          "output_type": "stream",
          "name": "stdout",
          "text": [
            "Collecting spotipy\n",
            "  Downloading spotipy-2.25.1-py3-none-any.whl.metadata (5.1 kB)\n",
            "Requirement already satisfied: requests in /usr/local/lib/python3.11/dist-packages (2.32.3)\n",
            "Requirement already satisfied: kagglehub in /usr/local/lib/python3.11/dist-packages (0.3.12)\n",
            "Collecting redis>=3.5.3 (from spotipy)\n",
            "  Downloading redis-6.0.0-py3-none-any.whl.metadata (10 kB)\n",
            "Requirement already satisfied: urllib3>=1.26.0 in /usr/local/lib/python3.11/dist-packages (from spotipy) (2.4.0)\n",
            "Requirement already satisfied: charset-normalizer<4,>=2 in /usr/local/lib/python3.11/dist-packages (from requests) (3.4.1)\n",
            "Requirement already satisfied: idna<4,>=2.5 in /usr/local/lib/python3.11/dist-packages (from requests) (3.10)\n",
            "Requirement already satisfied: certifi>=2017.4.17 in /usr/local/lib/python3.11/dist-packages (from requests) (2025.4.26)\n",
            "Requirement already satisfied: packaging in /usr/local/lib/python3.11/dist-packages (from kagglehub) (24.2)\n",
            "Requirement already satisfied: pyyaml in /usr/local/lib/python3.11/dist-packages (from kagglehub) (6.0.2)\n",
            "Requirement already satisfied: tqdm in /usr/local/lib/python3.11/dist-packages (from kagglehub) (4.67.1)\n",
            "Downloading spotipy-2.25.1-py3-none-any.whl (31 kB)\n",
            "Downloading redis-6.0.0-py3-none-any.whl (268 kB)\n",
            "\u001b[2K   \u001b[90m━━━━━━━━━━━━━━━━━━━━━━━━━━━━━━━━━━━━━━━━\u001b[0m \u001b[32m268.9/268.9 kB\u001b[0m \u001b[31m25.0 MB/s\u001b[0m eta \u001b[36m0:00:00\u001b[0m\n",
            "\u001b[?25hInstalling collected packages: redis, spotipy\n",
            "Successfully installed redis-6.0.0 spotipy-2.25.1\n"
          ]
        }
      ]
    },
    {
      "cell_type": "markdown",
      "source": [
        "## STEP 2: Check Runtime Type"
      ],
      "metadata": {
        "id": "3_G1cfF61lF9"
      }
    },
    {
      "cell_type": "code",
      "source": [
        "import os\n",
        "import torch\n",
        "import tensorflow as tf"
      ],
      "metadata": {
        "id": "vOq-KN__1lrw"
      },
      "execution_count": 2,
      "outputs": []
    },
    {
      "cell_type": "code",
      "source": [
        "try:\n",
        "    tpu = tf.distribute.cluster_resolver.TPUClusterResolver()  # Detect TPU\n",
        "    print(\"✔️ TPU found:\", tpu.master())\n",
        "\n",
        "    tf.config.experimental_connect_to_cluster(tpu)\n",
        "    tf.tpu.experimental.initialize_tpu_system(tpu)\n",
        "\n",
        "    strategy = tf.distribute.TPUStrategy(tpu)\n",
        "    print(\"✔️ TPU initialized and ready.\")\n",
        "except ValueError:\n",
        "    print(\"❌ TPU not found. Please check your runtime settings.\")"
      ],
      "metadata": {
        "colab": {
          "base_uri": "https://localhost:8080/"
        },
        "id": "xdDcniKv1pgS",
        "outputId": "966b48d5-6088-4877-ae5f-558c9c83a860"
      },
      "execution_count": 3,
      "outputs": [
        {
          "output_type": "stream",
          "name": "stdout",
          "text": [
            "❌ TPU not found. Please check your runtime settings.\n"
          ]
        }
      ]
    },
    {
      "cell_type": "code",
      "source": [
        "if 'COLAB_TPU_ADDR' in os.environ:\n",
        "    hardware = \"TPU\"\n",
        "elif torch.cuda.is_available():\n",
        "    hardware = \"GPU\"\n",
        "else:\n",
        "    hardware = \"CPU\"\n",
        "\n",
        "print(\"Running on:\", hardware)"
      ],
      "metadata": {
        "colab": {
          "base_uri": "https://localhost:8080/"
        },
        "id": "Qhv1_ed610dz",
        "outputId": "601e325a-ca26-4b37-d39f-62eb388d2da3"
      },
      "execution_count": 4,
      "outputs": [
        {
          "output_type": "stream",
          "name": "stdout",
          "text": [
            "Running on: GPU\n"
          ]
        }
      ]
    },
    {
      "cell_type": "markdown",
      "source": [
        "## STEP 3: Authenticate with Spotify"
      ],
      "metadata": {
        "id": "mJgpOhOb19fs"
      }
    },
    {
      "cell_type": "code",
      "source": [
        "# import library\n",
        "import requests\n",
        "import json\n",
        "import spotipy\n",
        "from spotipy.oauth2 import SpotifyOAuth\n",
        "import pandas as pd\n",
        "import kagglehub\n",
        "import concurrent.futures\n",
        "import time\n",
        "\n",
        "benchmark_results = []"
      ],
      "metadata": {
        "id": "eEi3r0xX2zFe"
      },
      "execution_count": 5,
      "outputs": []
    },
    {
      "cell_type": "code",
      "source": [
        "# Record the start time for benchmarking the authentication step\n",
        "auth_start = time.time()\n",
        "\n",
        "# Create a SpotifyOAuth object using credentials from the Spotify Developer Console\n",
        "# This handles the OAuth2 flow including token exchange\n",
        "sp_oauth = SpotifyOAuth(\n",
        "    client_id='c8114cb722874ba89ea096a76b613552',  # Your Spotify Client ID\n",
        "    client_secret='2b5ee9bf48754806a809aff449714616',  # Your Spotify Client Secret\n",
        "    redirect_uri='https://example.com/callback',  # Redirect URI set in your Spotify App\n",
        "    scope='user-top-read playlist-modify-public'  # Permissions: read top tracks + modify playlists\n",
        ")\n",
        "\n",
        "# Generate the authentication URL and prompt user to authorize the app\n",
        "auth_url = sp_oauth.get_authorize_url()\n",
        "print(\"Go to the following URL to authorize access:\", auth_url)\n",
        "\n",
        "# After the user authorizes, they will be redirected — paste that URL here\n",
        "redirected_url = input(\"Paste the redirected URL here:\\n\")\n",
        "\n",
        "# Extract the authorization code from the redirected URL\n",
        "code = sp_oauth.parse_response_code(redirected_url)\n",
        "\n",
        "# Use the authorization code to get an access token\n",
        "sp_oauth.get_access_token(code)\n",
        "\n",
        "# Store the access token for use in Spotify Web API requests\n",
        "token = sp_oauth.get_cached_token()['access_token']\n",
        "\n",
        "# Record end time and log benchmark result for this step\n",
        "auth_end = time.time()\n",
        "benchmark_results.append({'step': 'auth', 'runtime': auth_end - auth_start})"
      ],
      "metadata": {
        "colab": {
          "base_uri": "https://localhost:8080/"
        },
        "id": "nOwswQew174F",
        "outputId": "17a8c54e-028c-4ac8-da09-066aa65b8c86"
      },
      "execution_count": 6,
      "outputs": [
        {
          "name": "stdout",
          "output_type": "stream",
          "text": [
            "Go to the following URL to authorize access: https://accounts.spotify.com/authorize?client_id=c8114cb722874ba89ea096a76b613552&response_type=code&redirect_uri=https%3A%2F%2Fexample.com%2Fcallback&scope=user-top-read+playlist-modify-public\n",
            "Paste the redirected URL here:\n",
            " https://example.com/callback?code=AQCaMQE9WHxafED_VfSkmutvpfPQM8TYOwpwfwwYOYL1RYWzhKkBaNhk-ODemtvzQRx0wrwYKIQMYXUyc66rKsG6It5iYpy36KzYaC6ZT2ith0WFYtAmJt4yY6KDfQ4VgKV8Kcsp3bmT9aO3riV9pW3YkZ9T1OMPKYfSLR4IFJ0Rszpn2YDie2N9iRgQZXKCM0OMfR5ZCsVAAIJdoKXai-SyVprw15o\n"
          ]
        },
        {
          "output_type": "stream",
          "name": "stderr",
          "text": [
            "<ipython-input-6-6f24efb45267>:24: DeprecationWarning: You're using 'as_dict = True'.get_access_token will return the token string directly in future versions. Please adjust your code accordingly, or use get_cached_token instead.\n",
            "  sp_oauth.get_access_token(code)\n"
          ]
        }
      ]
    },
    {
      "cell_type": "markdown",
      "source": [
        "## STEP 4: Fetch User's Top Tracks from Spotify"
      ],
      "metadata": {
        "id": "_sXfQGDJ3AKJ"
      }
    },
    {
      "cell_type": "code",
      "source": [
        "# Record the start time to benchmark the data-fetching process\n",
        "fetch_start = time.time()\n",
        "\n",
        "# --------------------------------------------\n",
        "# Helper function to call Spotify Web API\n",
        "# --------------------------------------------\n",
        "def fetch_web_api(endpoint, method, body=None):\n",
        "    \"\"\"\n",
        "    Sends a request to the specified Spotify API endpoint using the provided method and optional JSON body.\n",
        "    Requires a valid OAuth token.\n",
        "\n",
        "    Args:\n",
        "        endpoint (str): The Spotify API path (e.g., 'v1/me/top/tracks').\n",
        "        method (str): HTTP method (e.g., 'GET', 'POST').\n",
        "        body (dict, optional): Data to be sent in the request body.\n",
        "\n",
        "    Returns:\n",
        "        dict: JSON response from the Spotify API.\n",
        "    \"\"\"\n",
        "    headers = {\n",
        "        'Authorization': f'Bearer {token}',       # Bearer token from Spotify OAuth\n",
        "        'Content-Type': 'application/json'\n",
        "    }\n",
        "\n",
        "    # Send HTTP request to Spotify API\n",
        "    response = requests.request(\n",
        "        method,\n",
        "        f'https://api.spotify.com/{endpoint}',     # Full URL to the API endpoint\n",
        "        headers=headers,\n",
        "        data=json.dumps(body) if body else None\n",
        "    )\n",
        "\n",
        "    # Handle potential errors\n",
        "    if response.status_code != 200:\n",
        "        print(f\"Error {response.status_code}: {response.text}\")\n",
        "        response.raise_for_status()\n",
        "\n",
        "    return response.json()\n",
        "\n",
        "# --------------------------------------------\n",
        "# Fetch top 20 tracks the user listened to long-term\n",
        "# --------------------------------------------\n",
        "top_tracks = fetch_web_api('v1/me/top/tracks?time_range=long_term&limit=20', 'GET')['items']\n",
        "\n",
        "# --------------------------------------------\n",
        "# Display track names and artists\n",
        "# --------------------------------------------\n",
        "print(\"\\n♥︎ My Top Tracks:\")\n",
        "for idx, track in enumerate(top_tracks, start=1):\n",
        "    name = track['name']\n",
        "    artists = ', '.join(artist['name'] for artist in track['artists'])\n",
        "    print(f\"{idx}. {name} by {artists}\")\n",
        "\n",
        "# Record end time and log benchmark result\n",
        "fetch_end = time.time()\n",
        "benchmark_results.append({'step': 'fetch_top_tracks', 'runtime': fetch_end - fetch_start})"
      ],
      "metadata": {
        "colab": {
          "base_uri": "https://localhost:8080/"
        },
        "id": "2R5Z4zrE24tc",
        "outputId": "863bb4aa-b82d-457b-88da-dbca680aae15"
      },
      "execution_count": 7,
      "outputs": [
        {
          "output_type": "stream",
          "name": "stdout",
          "text": [
            "\n",
            "♥︎ My Top Tracks:\n",
            "1. DARARI by TREASURE\n",
            "2. Love by Keyshia Cole\n",
            "3. เส้นบางๆ by Indigo\n",
            "4. Let Me Love You by DJ Snake, Justin Bieber\n",
            "5. Bills by ENHYPEN\n",
            "6. Blind by ENHYPEN\n",
            "7. SHOUT OUT by ENHYPEN\n",
            "8. Strings by TAEMIN\n",
            "9. Fall in Love by ARMOR\n",
            "10. ฉบับปรับปรุง by ZENTYARB, PUNYARB, LAZYLOXY\n",
            "11. Scent by oceanfromtheblue\n",
            "12. Fate by ENHYPEN\n",
            "13. วันครบเลิก by NONT TANONT\n",
            "14. What Makes You Beautiful by ENHYPEN\n",
            "15. Everyday by Ariana Grande, Future\n",
            "16. Sacrifice (Eat Me Up) by ENHYPEN\n",
            "17. Bite Me by ENHYPEN\n",
            "18. BLOSSOM by ENHYPEN\n",
            "19. สตรอว์เบอร์รีไอศกรีม by MXFRUIT\n",
            "20. Summer (Feat. BE’O) by Paul Blanco, BE'O\n"
          ]
        }
      ]
    },
    {
      "cell_type": "markdown",
      "source": [
        "## STEP 5: Import Spotify Tracks Dataset from Kaggle (FMA)"
      ],
      "metadata": {
        "id": "ZTnuyYHl3V8_"
      }
    },
    {
      "cell_type": "code",
      "source": [
        "# Record the start time to benchmark dataset download + load time\n",
        "dataset_start = time.time()\n",
        "\n",
        "# --------------------------------------------\n",
        "# Download dataset using KaggleHub\n",
        "# --------------------------------------------\n",
        "# The dataset is publicly available at:\n",
        "# https://www.kaggle.com/datasets/maharshipandya/-spotify-tracks-dataset\n",
        "path = kagglehub.dataset_download(\"maharshipandya/-spotify-tracks-dataset\")\n",
        "\n",
        "# Show where the dataset is downloaded\n",
        "print(\"Path to dataset files:\", path)\n",
        "\n",
        "# Display available files in the dataset directory\n",
        "print(\"Files in the dataset:\", os.listdir(path))\n",
        "\n",
        "# --------------------------------------------\n",
        "# Load the dataset CSV into a Pandas DataFrame\n",
        "# --------------------------------------------\n",
        "file_path = os.path.join(path, \"dataset.csv\")  # Absolute path to CSV file\n",
        "df = pd.read_csv(file_path)  # Load CSV using buffered read (via pandas)\n",
        "\n",
        "# Record end time and log benchmark result\n",
        "dataset_end = time.time()\n",
        "benchmark_results.append({'step': 'download_dataset', 'runtime': dataset_end - dataset_start})"
      ],
      "metadata": {
        "colab": {
          "base_uri": "https://localhost:8080/"
        },
        "id": "kIXqAjFS3R4o",
        "outputId": "fa292d68-e930-4689-80f2-4b7e3963ddfc"
      },
      "execution_count": 8,
      "outputs": [
        {
          "output_type": "stream",
          "name": "stdout",
          "text": [
            "Downloading from https://www.kaggle.com/api/v1/datasets/download/maharshipandya/-spotify-tracks-dataset?dataset_version_number=1...\n"
          ]
        },
        {
          "output_type": "stream",
          "name": "stderr",
          "text": [
            "100%|██████████| 8.17M/8.17M [00:01<00:00, 5.90MB/s]"
          ]
        },
        {
          "output_type": "stream",
          "name": "stdout",
          "text": [
            "Extracting files...\n"
          ]
        },
        {
          "output_type": "stream",
          "name": "stderr",
          "text": [
            "\n"
          ]
        },
        {
          "output_type": "stream",
          "name": "stdout",
          "text": [
            "Path to dataset files: /root/.cache/kagglehub/datasets/maharshipandya/-spotify-tracks-dataset/versions/1\n",
            "Files in the dataset: ['dataset.csv']\n"
          ]
        }
      ]
    },
    {
      "cell_type": "markdown",
      "source": [
        "## STEP 6: Build User Music Profile from Top Tracks"
      ],
      "metadata": {
        "id": "AFfM_vHB3ict"
      }
    },
    {
      "cell_type": "code",
      "source": [
        "# Record the start time to benchmark the profile creation process\n",
        "process_start = time.time()\n",
        "\n",
        "# --------------------------------------------\n",
        "# Extract Spotify track IDs from the user's top tracks\n",
        "# --------------------------------------------\n",
        "track_ids = [track['id'] for track in top_tracks]  # List of track IDs to match with dataset\n",
        "\n",
        "# --------------------------------------------\n",
        "# Filter the Kaggle dataset to only include tracks that match the user's top Spotify tracks\n",
        "# --------------------------------------------\n",
        "# This performs a vectorized match using .isin() for efficiency\n",
        "user_tracks_df = df[df['track_id'].isin(track_ids)]\n",
        "\n",
        "# --------------------------------------------\n",
        "# Define the audio features to include in the user profile\n",
        "# --------------------------------------------\n",
        "feature_keys = ['danceability', 'energy', 'valence', 'tempo', 'acousticness']\n",
        "\n",
        "# Compute the mean of each feature to create a user profile vector\n",
        "# This vector represents the user's average musical taste\n",
        "user_profile = user_tracks_df[feature_keys].mean()\n",
        "\n",
        "# Display the resulting profile\n",
        "print(\"♥︎ User Profile (average audio features):\\n\", user_profile)"
      ],
      "metadata": {
        "colab": {
          "base_uri": "https://localhost:8080/"
        },
        "id": "thOvfvD73ek9",
        "outputId": "64e270ea-e968-4e1e-e4e9-70327080a1d7"
      },
      "execution_count": 9,
      "outputs": [
        {
          "output_type": "stream",
          "name": "stdout",
          "text": [
            "♥︎ User Profile (average audio features):\n",
            " danceability      0.632571\n",
            "energy            0.706143\n",
            "valence           0.231286\n",
            "tempo           110.949000\n",
            "acousticness      0.071236\n",
            "dtype: float64\n"
          ]
        }
      ]
    },
    {
      "cell_type": "markdown",
      "source": [
        "## STEP 7: Generate Music Recommendations Using KNN & Display Result"
      ],
      "metadata": {
        "id": "tdl-Qf_j3wfP"
      }
    },
    {
      "cell_type": "code",
      "source": [
        "# ============================================\n",
        "# STEP: Generate Music Recommendations Using KNN\n",
        "# ============================================\n",
        "\n",
        "from sklearn.neighbors import NearestNeighbors\n",
        "\n",
        "# Prepare dataset for KNN (drop missing values in audio features)\n",
        "df_filtered = df.dropna(subset=feature_keys)\n",
        "X = df_filtered[feature_keys]\n",
        "\n",
        "# Fit KNN model with Euclidean distance\n",
        "knn = NearestNeighbors(n_neighbors=50, metric='euclidean')\n",
        "knn.fit(X)\n",
        "\n",
        "# Find 50 songs nearest to the user profile\n",
        "distances, indices = knn.kneighbors([user_profile])\n",
        "\n",
        "# Retrieve recommended songs based on indices\n",
        "recommendations = df_filtered.iloc[indices[0]]\n",
        "\n",
        "# 🔍 Remove duplicate tracks to ensure variety\n",
        "recommendations = recommendations.drop_duplicates(subset=['track_name', 'artists'])\n",
        "\n",
        "# Display genres of the recommended songs\n",
        "print(\"Genres of Recommended Tracks:\")\n",
        "print(recommendations['track_genre'].tolist())\n"
      ],
      "metadata": {
        "colab": {
          "base_uri": "https://localhost:8080/"
        },
        "id": "vEqOxbUn3xZI",
        "outputId": "013d2e04-b116-4d04-c8ef-8922a0e98a23"
      },
      "execution_count": 10,
      "outputs": [
        {
          "output_type": "stream",
          "name": "stdout",
          "text": [
            "Genres of Recommended Tracks:\n",
            "['electronic', 'j-pop', 'hardcore', 'club', 'minimal-techno', 'industrial', 'trip-hop', 'synth-pop', 'piano', 'indie', 'detroit-techno', 'electro', 'electro', 'trip-hop', 'industrial', 'idm', 'minimal-techno', 'death-metal', 'french', 'detroit-techno', 'synth-pop', 'deep-house', 'club', 'edm', 'club', 'deep-house', 'electro', 'electro', 'trip-hop', 'synth-pop', 'soul', 'soul']\n"
          ]
        },
        {
          "output_type": "stream",
          "name": "stderr",
          "text": [
            "/usr/local/lib/python3.11/dist-packages/sklearn/utils/validation.py:2739: UserWarning: X does not have valid feature names, but NearestNeighbors was fitted with feature names\n",
            "  warnings.warn(\n"
          ]
        }
      ]
    },
    {
      "cell_type": "code",
      "source": [
        "# --------------------------------------------\n",
        "# Select only key columns for display\n",
        "# --------------------------------------------\n",
        "# Limit to top 20 recommendations for clearer presentation\n",
        "display_df = recommendations[['track_name', 'artists', 'track_genre']].copy().head(20)\n",
        "\n",
        "# Rename columns for aesthetic purposes (♥︎ label)\n",
        "display_df.columns = ['♥︎ Track Name', '♥︎ Artist(s)', '♥︎ Genre']\n",
        "\n",
        "# --------------------------------------------\n",
        "# Render the table with HTML styling using IPython\n",
        "# --------------------------------------------\n",
        "from IPython.display import display, HTML\n",
        "\n",
        "# Convert the DataFrame to an HTML table without index\n",
        "html_table = display_df.reset_index(drop=True).to_html(index=False, escape=False)\n",
        "\n",
        "# Define custom CSS style for the HTML table\n",
        "display(HTML(f\"\"\"\n",
        "<style>\n",
        "table {{\n",
        "  border-collapse: collapse;\n",
        "  width: 100%;\n",
        "  font-family: 'Arial';\n",
        "  font-size: 15px;\n",
        "}}\n",
        "th {{\n",
        "  background-color: #1DB954;  /* Spotify green */\n",
        "  color: white;\n",
        "  padding: 8px;\n",
        "  text-align: right;\n",
        "}}\n",
        "td {{\n",
        "  padding: 8px;\n",
        "  border-bottom: 1px solid #ddd;\n",
        "  text-align: right;\n",
        "}}\n",
        "</style>\n",
        "{html_table}\n",
        "\"\"\"))"
      ],
      "metadata": {
        "colab": {
          "base_uri": "https://localhost:8080/",
          "height": 738
        },
        "id": "J7injAXA35_o",
        "outputId": "68e13e83-57cb-453f-a6bb-d3326a026112"
      },
      "execution_count": 11,
      "outputs": [
        {
          "output_type": "display_data",
          "data": {
            "text/plain": [
              "<IPython.core.display.HTML object>"
            ],
            "text/html": [
              "\n",
              "<style>\n",
              "table {\n",
              "  border-collapse: collapse;\n",
              "  width: 100%;\n",
              "  font-family: 'Arial';\n",
              "  font-size: 15px;\n",
              "}\n",
              "th {\n",
              "  background-color: #1DB954;  /* Spotify green */\n",
              "  color: white;\n",
              "  padding: 8px;\n",
              "  text-align: right;\n",
              "}\n",
              "td {\n",
              "  padding: 8px;\n",
              "  border-bottom: 1px solid #ddd;\n",
              "  text-align: right;\n",
              "}\n",
              "</style>\n",
              "<table border=\"1\" class=\"dataframe\">\n",
              "  <thead>\n",
              "    <tr style=\"text-align: right;\">\n",
              "      <th>♥︎ Track Name</th>\n",
              "      <th>♥︎ Artist(s)</th>\n",
              "      <th>♥︎ Genre</th>\n",
              "    </tr>\n",
              "  </thead>\n",
              "  <tbody>\n",
              "    <tr>\n",
              "      <td>Fasl E Gul</td>\n",
              "      <td>Farasat Anees;Slick Trick;Toshi</td>\n",
              "      <td>electronic</td>\n",
              "    </tr>\n",
              "    <tr>\n",
              "      <td>こんなに悲しいのに腹が鳴る</td>\n",
              "      <td>Creep Hyp</td>\n",
              "      <td>j-pop</td>\n",
              "    </tr>\n",
              "    <tr>\n",
              "      <td>Mulher</td>\n",
              "      <td>Rancore</td>\n",
              "      <td>hardcore</td>\n",
              "    </tr>\n",
              "    <tr>\n",
              "      <td>Are Friends Electric</td>\n",
              "      <td>Djedjotronic;Lokier</td>\n",
              "      <td>club</td>\n",
              "    </tr>\n",
              "    <tr>\n",
              "      <td>Half Age</td>\n",
              "      <td>Weval</td>\n",
              "      <td>minimal-techno</td>\n",
              "    </tr>\n",
              "    <tr>\n",
              "      <td>John Wayne Gacy</td>\n",
              "      <td>SKYND</td>\n",
              "      <td>industrial</td>\n",
              "    </tr>\n",
              "    <tr>\n",
              "      <td>Heartbroken - Live at Koningin Elisabethzaal 2012</td>\n",
              "      <td>Hooverphonic</td>\n",
              "      <td>trip-hop</td>\n",
              "    </tr>\n",
              "    <tr>\n",
              "      <td>Sweettalk my Heart</td>\n",
              "      <td>Tove Lo</td>\n",
              "      <td>synth-pop</td>\n",
              "    </tr>\n",
              "    <tr>\n",
              "      <td>Wreak Havoc</td>\n",
              "      <td>Skylar Grey</td>\n",
              "      <td>piano</td>\n",
              "    </tr>\n",
              "    <tr>\n",
              "      <td>You should be sad</td>\n",
              "      <td>Halsey</td>\n",
              "      <td>indie</td>\n",
              "    </tr>\n",
              "    <tr>\n",
              "      <td>Wuddaji</td>\n",
              "      <td>Theo Parrish</td>\n",
              "      <td>detroit-techno</td>\n",
              "    </tr>\n",
              "    <tr>\n",
              "      <td>do re mi</td>\n",
              "      <td>blackbear</td>\n",
              "      <td>electro</td>\n",
              "    </tr>\n",
              "    <tr>\n",
              "      <td>BIBA</td>\n",
              "      <td>Farasat Anees;Slick Trick;Toshi</td>\n",
              "      <td>electro</td>\n",
              "    </tr>\n",
              "    <tr>\n",
              "      <td>Mamba</td>\n",
              "      <td>Emancipator;Lapa;Marley Carroll</td>\n",
              "      <td>trip-hop</td>\n",
              "    </tr>\n",
              "    <tr>\n",
              "      <td>Crazy Life</td>\n",
              "      <td>(Hed) P.E.</td>\n",
              "      <td>industrial</td>\n",
              "    </tr>\n",
              "    <tr>\n",
              "      <td>Syntax</td>\n",
              "      <td>Gimmik</td>\n",
              "      <td>idm</td>\n",
              "    </tr>\n",
              "    <tr>\n",
              "      <td>Spectrum</td>\n",
              "      <td>Max Cooper</td>\n",
              "      <td>minimal-techno</td>\n",
              "    </tr>\n",
              "    <tr>\n",
              "      <td>Beholder</td>\n",
              "      <td>Revenge The Fate</td>\n",
              "      <td>death-metal</td>\n",
              "    </tr>\n",
              "    <tr>\n",
              "      <td>Abdomen</td>\n",
              "      <td>Jok'air</td>\n",
              "      <td>french</td>\n",
              "    </tr>\n",
              "    <tr>\n",
              "      <td>Lost Keys</td>\n",
              "      <td>Theo Parrish</td>\n",
              "      <td>detroit-techno</td>\n",
              "    </tr>\n",
              "  </tbody>\n",
              "</table>\n"
            ]
          },
          "metadata": {}
        }
      ]
    },
    {
      "cell_type": "markdown",
      "source": [
        "## STEP 8: Create and Add Recommended Songs to Spotify Playlist"
      ],
      "metadata": {
        "id": "M01xMKqk4w8_"
      }
    },
    {
      "cell_type": "code",
      "source": [
        "import time\n",
        "import concurrent.futures\n",
        "\n",
        "# --------------------------------------------------\n",
        "# Prepare unique Spotify track URIs\n",
        "# --------------------------------------------------\n",
        "track_uris = ['spotify:track:' + tid for tid in recommendations['track_id'].dropna().tolist()]\n",
        "track_uris = list(dict.fromkeys(track_uris))  # Remove duplicates but keep order\n",
        "print(f\"🎧 Total unique URIs to add: {len(track_uris)}\")\n",
        "\n",
        "# Split into batches of 100 (Spotify API limit)\n",
        "def chunkify(lst, n):\n",
        "    for i in range(0, len(lst), n):\n",
        "        yield lst[i:i + n]\n",
        "batches = list(chunkify(track_uris, 100))\n",
        "\n",
        "# Initialize Spotify client\n",
        "sp = spotipy.Spotify(auth_manager=sp_oauth)\n",
        "user_id = sp.me()['id']\n",
        "\n",
        "# --------------------------------------------------\n",
        "# Method 1: Single-threaded playlist creation\n",
        "# --------------------------------------------------\n",
        "playlist_single = sp.user_playlist_create(user=user_id, name='No Veggie Recs (Single Thread)', public=True)\n",
        "\n",
        "start_time = time.time()\n",
        "for batch in batches:\n",
        "    sp.playlist_add_items(playlist_id=playlist_single['id'], items=batch)\n",
        "single_thread_duration = time.time() - start_time\n",
        "\n",
        "print(f\"Single-thread took {single_thread_duration:.2f} seconds\")\n",
        "print(f\"Playlist (Single): {playlist_single['external_urls']['spotify']}\")\n",
        "\n",
        "# --------------------------------------------------\n",
        "# Method 2: Multi-threaded playlist creation\n",
        "# --------------------------------------------------\n",
        "playlist_multi = sp.user_playlist_create(user=user_id, name='No Veggie Recs (Multi Thread)', public=True)\n",
        "\n",
        "def add_batch_to_playlist(batch):\n",
        "    try:\n",
        "        sp.playlist_add_items(playlist_id=playlist_multi['id'], items=batch)\n",
        "        return True\n",
        "    except Exception as e:\n",
        "        print(\"Error:\", e)\n",
        "        return False\n",
        "\n",
        "start_time = time.time()\n",
        "max_threads = min(10, len(batches))\n",
        "with concurrent.futures.ThreadPoolExecutor(max_workers=max_threads) as executor:\n",
        "    futures = [executor.submit(add_batch_to_playlist, b) for b in batches]\n",
        "    for future in concurrent.futures.as_completed(futures):\n",
        "        result = future.result()\n",
        "multi_thread_duration = time.time() - start_time\n",
        "\n",
        "print(f\"Multi-thread took {multi_thread_duration:.2f} seconds\")\n",
        "print(f\"Playlist (Multi): {playlist_multi['external_urls']['spotify']}\")\n",
        "\n",
        "# --------------------------------------------------\n",
        "# Summary\n",
        "# --------------------------------------------------\n",
        "print(f\"Speedup: {single_thread_duration / multi_thread_duration:.2f}x faster with multithreading\")"
      ],
      "metadata": {
        "colab": {
          "base_uri": "https://localhost:8080/"
        },
        "id": "c1f-RfZN4t6m",
        "outputId": "0c607fd5-6520-41e2-dba9-eedae6338204"
      },
      "execution_count": 12,
      "outputs": [
        {
          "output_type": "stream",
          "name": "stdout",
          "text": [
            "🎧 Total unique URIs to add: 32\n",
            "Single-thread took 0.14 seconds\n",
            "Playlist (Single): https://open.spotify.com/playlist/5clKGlNGSTtyoW1kKEOFRN\n",
            "Multi-thread took 0.15 seconds\n",
            "Playlist (Multi): https://open.spotify.com/playlist/3PwsPFK8tZpb89NfkU3UBk\n",
            "Speedup: 0.97x faster with multithreading\n"
          ]
        }
      ]
    },
    {
      "cell_type": "markdown",
      "source": [
        "## STEP 9: Compare File I/O Performance (JSON)"
      ],
      "metadata": {
        "id": "gVEAlpWz7TXf"
      }
    },
    {
      "cell_type": "code",
      "source": [
        "# --------------------------------------------\n",
        "# Save recommendations to JSON file\n",
        "# --------------------------------------------\n",
        "recommendations = pd.DataFrame(top_tracks)\n",
        "\n",
        "filename = 'recommendations.json'\n",
        "\n",
        "# Save in JSON Lines format (one object per line)\n",
        "recommendations.to_json(filename, orient='records', lines=True)\n",
        "print(\"❤︎ Saved as recommendations.json\")\n",
        "\n",
        "# --------------------------------------------\n",
        "# Start benchmarking I/O methods\n",
        "# --------------------------------------------\n",
        "import time\n",
        "io_start = time.time()\n",
        "\n",
        "# --------------------------------------------\n",
        "# Method 1: read() — read entire file as one string\n",
        "# --------------------------------------------\n",
        "start = time.time()\n",
        "with open(filename, 'r') as f:\n",
        "    data = f.read()  # Load whole file into memory at once\n",
        "end = time.time()\n",
        "print(\"📄 read() time:\", end - start)\n",
        "benchmark_results.append({'step': 'read()', 'runtime': end - start})\n",
        "\n",
        "# --------------------------------------------\n",
        "# Method 2: readline() — read file line-by-line into list\n",
        "# --------------------------------------------\n",
        "start = time.time()\n",
        "with open(filename, 'r') as f:\n",
        "    lines = [line for line in f]  # Load each line one-by-one\n",
        "end = time.time()\n",
        "print(\"📄 readline() time:\", end - start)\n",
        "benchmark_results.append({'step': 'readline()', 'runtime': end - start})\n",
        "\n",
        "# --------------------------------------------\n",
        "# Method 3: pandas.read_json() — structured loading with parsing\n",
        "# --------------------------------------------\n",
        "start = time.time()\n",
        "df = pd.read_json(filename, lines=True)  # Fast and structured but includes parsing overhead\n",
        "end = time.time()\n",
        "print(\"📄 pandas.read_json() time:\", end - start)\n",
        "benchmark_results.append({'step': 'pandas.read_json()', 'runtime': end - start})\n",
        "\n",
        "# --------------------------------------------\n",
        "# Log total I/O benchmark time\n",
        "# --------------------------------------------\n",
        "io_end = time.time()\n",
        "benchmark_results.append({'step': 'total_io', 'runtime': io_end - io_start})"
      ],
      "metadata": {
        "colab": {
          "base_uri": "https://localhost:8080/"
        },
        "id": "FnGat9fz7VM5",
        "outputId": "67f483b3-39aa-4430-c769-8709d9e96ccb"
      },
      "execution_count": 13,
      "outputs": [
        {
          "output_type": "stream",
          "name": "stdout",
          "text": [
            "❤︎ Saved as recommendations.json\n",
            "📄 read() time: 0.0014996528625488281\n",
            "📄 readline() time: 0.00028824806213378906\n",
            "📄 pandas.read_json() time: 0.01893138885498047\n"
          ]
        }
      ]
    },
    {
      "cell_type": "markdown",
      "source": [
        "## STEP 10: Save and Display Benchmark Results"
      ],
      "metadata": {
        "id": "hPnXtf4h7fgx"
      }
    },
    {
      "cell_type": "code",
      "source": [
        "import json\n",
        "\n",
        "# --------------------------------------------\n",
        "# Print hardware type (CPU / GPU / TPU)\n",
        "# --------------------------------------------\n",
        "print(\"🖥️ Using runtime type:\", hardware)\n",
        "\n",
        "# --------------------------------------------\n",
        "# Save benchmark results to a JSON file\n",
        "# --------------------------------------------\n",
        "filename = f'benchmark_{hardware.lower()}.json'\n",
        "\n",
        "# Write benchmark results as pretty-formatted JSON\n",
        "with open(filename, 'w') as f:\n",
        "    json.dump(benchmark_results, f, indent=2)\n",
        "\n",
        "print(f\"\\n📁 Benchmark results saved to {filename}\")\n",
        "\n",
        "# --------------------------------------------\n",
        "# Print all benchmark steps and their runtimes\n",
        "# --------------------------------------------\n",
        "print(\"\\n⏱️ Runtime Summary:\")\n",
        "for step in benchmark_results:\n",
        "    print(f\"• {step['step']}: {step['runtime']:.4f} seconds\")"
      ],
      "metadata": {
        "colab": {
          "base_uri": "https://localhost:8080/"
        },
        "id": "GULzS6lH7g7v",
        "outputId": "b57d9ec8-c44c-46c4-b1a3-75663ab6c74a"
      },
      "execution_count": 14,
      "outputs": [
        {
          "output_type": "stream",
          "name": "stdout",
          "text": [
            "🖥️ Using runtime type: GPU\n",
            "\n",
            "📁 Benchmark results saved to benchmark_gpu.json\n",
            "\n",
            "⏱️ Runtime Summary:\n",
            "• auth: 8.8659 seconds\n",
            "• fetch_top_tracks: 0.2580 seconds\n",
            "• download_dataset: 8.8786 seconds\n",
            "• read(): 0.0015 seconds\n",
            "• readline(): 0.0003 seconds\n",
            "• pandas.read_json(): 0.0189 seconds\n",
            "• total_io: 0.0213 seconds\n"
          ]
        }
      ]
    },
    {
      "cell_type": "code",
      "source": [
        "from google.colab import files\n",
        "# files.download('benchmark_cpu.json')\n",
        "files.download('benchmark_gpu.json')\n",
        "# files.download('benchmark_tpu.json')"
      ],
      "metadata": {
        "colab": {
          "base_uri": "https://localhost:8080/",
          "height": 16
        },
        "id": "DP2KXIYP7l0F",
        "outputId": "b7f8d0c3-a08f-496b-ee2d-dfc52988d8bd"
      },
      "execution_count": 15,
      "outputs": [
        {
          "output_type": "display_data",
          "data": {
            "text/plain": [
              "<IPython.core.display.Javascript object>"
            ],
            "application/javascript": [
              "\n",
              "    async function download(id, filename, size) {\n",
              "      if (!google.colab.kernel.accessAllowed) {\n",
              "        return;\n",
              "      }\n",
              "      const div = document.createElement('div');\n",
              "      const label = document.createElement('label');\n",
              "      label.textContent = `Downloading \"${filename}\": `;\n",
              "      div.appendChild(label);\n",
              "      const progress = document.createElement('progress');\n",
              "      progress.max = size;\n",
              "      div.appendChild(progress);\n",
              "      document.body.appendChild(div);\n",
              "\n",
              "      const buffers = [];\n",
              "      let downloaded = 0;\n",
              "\n",
              "      const channel = await google.colab.kernel.comms.open(id);\n",
              "      // Send a message to notify the kernel that we're ready.\n",
              "      channel.send({})\n",
              "\n",
              "      for await (const message of channel.messages) {\n",
              "        // Send a message to notify the kernel that we're ready.\n",
              "        channel.send({})\n",
              "        if (message.buffers) {\n",
              "          for (const buffer of message.buffers) {\n",
              "            buffers.push(buffer);\n",
              "            downloaded += buffer.byteLength;\n",
              "            progress.value = downloaded;\n",
              "          }\n",
              "        }\n",
              "      }\n",
              "      const blob = new Blob(buffers, {type: 'application/binary'});\n",
              "      const a = document.createElement('a');\n",
              "      a.href = window.URL.createObjectURL(blob);\n",
              "      a.download = filename;\n",
              "      div.appendChild(a);\n",
              "      a.click();\n",
              "      div.remove();\n",
              "    }\n",
              "  "
            ]
          },
          "metadata": {}
        },
        {
          "output_type": "display_data",
          "data": {
            "text/plain": [
              "<IPython.core.display.Javascript object>"
            ],
            "application/javascript": [
              "download(\"download_62440737-ea3d-4ae5-8d4e-2a975803d8a6\", \"benchmark_gpu.json\", 500)"
            ]
          },
          "metadata": {}
        }
      ]
    },
    {
      "cell_type": "markdown",
      "source": [
        "## STEP 11: Prepare Benchmark Data for Visualization"
      ],
      "metadata": {
        "id": "ehIfF5Ss7uaS"
      }
    },
    {
      "cell_type": "code",
      "source": [
        "import pandas as pd\n",
        "import json\n",
        "\n",
        "uploaded = files.upload()\n",
        "cpu = json.load(open('benchmark_cpu.json'))\n",
        "uploaded = files.upload()\n",
        "gpu = json.load(open('benchmark_gpu.json'))\n",
        "# uploaded = files.upload()\n",
        "# gpu = json.load(open('benchmark_tpu.json'))"
      ],
      "metadata": {
        "colab": {
          "base_uri": "https://localhost:8080/",
          "height": 122
        },
        "id": "wbs_ZY199PLn",
        "outputId": "79d2e9ff-9ce2-4882-ea77-fbf9836f57e0"
      },
      "execution_count": 16,
      "outputs": [
        {
          "output_type": "display_data",
          "data": {
            "text/plain": [
              "<IPython.core.display.HTML object>"
            ],
            "text/html": [
              "\n",
              "     <input type=\"file\" id=\"files-01fedf40-1afa-44fa-8a7a-28f4a3539d15\" name=\"files[]\" multiple disabled\n",
              "        style=\"border:none\" />\n",
              "     <output id=\"result-01fedf40-1afa-44fa-8a7a-28f4a3539d15\">\n",
              "      Upload widget is only available when the cell has been executed in the\n",
              "      current browser session. Please rerun this cell to enable.\n",
              "      </output>\n",
              "      <script>// Copyright 2017 Google LLC\n",
              "//\n",
              "// Licensed under the Apache License, Version 2.0 (the \"License\");\n",
              "// you may not use this file except in compliance with the License.\n",
              "// You may obtain a copy of the License at\n",
              "//\n",
              "//      http://www.apache.org/licenses/LICENSE-2.0\n",
              "//\n",
              "// Unless required by applicable law or agreed to in writing, software\n",
              "// distributed under the License is distributed on an \"AS IS\" BASIS,\n",
              "// WITHOUT WARRANTIES OR CONDITIONS OF ANY KIND, either express or implied.\n",
              "// See the License for the specific language governing permissions and\n",
              "// limitations under the License.\n",
              "\n",
              "/**\n",
              " * @fileoverview Helpers for google.colab Python module.\n",
              " */\n",
              "(function(scope) {\n",
              "function span(text, styleAttributes = {}) {\n",
              "  const element = document.createElement('span');\n",
              "  element.textContent = text;\n",
              "  for (const key of Object.keys(styleAttributes)) {\n",
              "    element.style[key] = styleAttributes[key];\n",
              "  }\n",
              "  return element;\n",
              "}\n",
              "\n",
              "// Max number of bytes which will be uploaded at a time.\n",
              "const MAX_PAYLOAD_SIZE = 100 * 1024;\n",
              "\n",
              "function _uploadFiles(inputId, outputId) {\n",
              "  const steps = uploadFilesStep(inputId, outputId);\n",
              "  const outputElement = document.getElementById(outputId);\n",
              "  // Cache steps on the outputElement to make it available for the next call\n",
              "  // to uploadFilesContinue from Python.\n",
              "  outputElement.steps = steps;\n",
              "\n",
              "  return _uploadFilesContinue(outputId);\n",
              "}\n",
              "\n",
              "// This is roughly an async generator (not supported in the browser yet),\n",
              "// where there are multiple asynchronous steps and the Python side is going\n",
              "// to poll for completion of each step.\n",
              "// This uses a Promise to block the python side on completion of each step,\n",
              "// then passes the result of the previous step as the input to the next step.\n",
              "function _uploadFilesContinue(outputId) {\n",
              "  const outputElement = document.getElementById(outputId);\n",
              "  const steps = outputElement.steps;\n",
              "\n",
              "  const next = steps.next(outputElement.lastPromiseValue);\n",
              "  return Promise.resolve(next.value.promise).then((value) => {\n",
              "    // Cache the last promise value to make it available to the next\n",
              "    // step of the generator.\n",
              "    outputElement.lastPromiseValue = value;\n",
              "    return next.value.response;\n",
              "  });\n",
              "}\n",
              "\n",
              "/**\n",
              " * Generator function which is called between each async step of the upload\n",
              " * process.\n",
              " * @param {string} inputId Element ID of the input file picker element.\n",
              " * @param {string} outputId Element ID of the output display.\n",
              " * @return {!Iterable<!Object>} Iterable of next steps.\n",
              " */\n",
              "function* uploadFilesStep(inputId, outputId) {\n",
              "  const inputElement = document.getElementById(inputId);\n",
              "  inputElement.disabled = false;\n",
              "\n",
              "  const outputElement = document.getElementById(outputId);\n",
              "  outputElement.innerHTML = '';\n",
              "\n",
              "  const pickedPromise = new Promise((resolve) => {\n",
              "    inputElement.addEventListener('change', (e) => {\n",
              "      resolve(e.target.files);\n",
              "    });\n",
              "  });\n",
              "\n",
              "  const cancel = document.createElement('button');\n",
              "  inputElement.parentElement.appendChild(cancel);\n",
              "  cancel.textContent = 'Cancel upload';\n",
              "  const cancelPromise = new Promise((resolve) => {\n",
              "    cancel.onclick = () => {\n",
              "      resolve(null);\n",
              "    };\n",
              "  });\n",
              "\n",
              "  // Wait for the user to pick the files.\n",
              "  const files = yield {\n",
              "    promise: Promise.race([pickedPromise, cancelPromise]),\n",
              "    response: {\n",
              "      action: 'starting',\n",
              "    }\n",
              "  };\n",
              "\n",
              "  cancel.remove();\n",
              "\n",
              "  // Disable the input element since further picks are not allowed.\n",
              "  inputElement.disabled = true;\n",
              "\n",
              "  if (!files) {\n",
              "    return {\n",
              "      response: {\n",
              "        action: 'complete',\n",
              "      }\n",
              "    };\n",
              "  }\n",
              "\n",
              "  for (const file of files) {\n",
              "    const li = document.createElement('li');\n",
              "    li.append(span(file.name, {fontWeight: 'bold'}));\n",
              "    li.append(span(\n",
              "        `(${file.type || 'n/a'}) - ${file.size} bytes, ` +\n",
              "        `last modified: ${\n",
              "            file.lastModifiedDate ? file.lastModifiedDate.toLocaleDateString() :\n",
              "                                    'n/a'} - `));\n",
              "    const percent = span('0% done');\n",
              "    li.appendChild(percent);\n",
              "\n",
              "    outputElement.appendChild(li);\n",
              "\n",
              "    const fileDataPromise = new Promise((resolve) => {\n",
              "      const reader = new FileReader();\n",
              "      reader.onload = (e) => {\n",
              "        resolve(e.target.result);\n",
              "      };\n",
              "      reader.readAsArrayBuffer(file);\n",
              "    });\n",
              "    // Wait for the data to be ready.\n",
              "    let fileData = yield {\n",
              "      promise: fileDataPromise,\n",
              "      response: {\n",
              "        action: 'continue',\n",
              "      }\n",
              "    };\n",
              "\n",
              "    // Use a chunked sending to avoid message size limits. See b/62115660.\n",
              "    let position = 0;\n",
              "    do {\n",
              "      const length = Math.min(fileData.byteLength - position, MAX_PAYLOAD_SIZE);\n",
              "      const chunk = new Uint8Array(fileData, position, length);\n",
              "      position += length;\n",
              "\n",
              "      const base64 = btoa(String.fromCharCode.apply(null, chunk));\n",
              "      yield {\n",
              "        response: {\n",
              "          action: 'append',\n",
              "          file: file.name,\n",
              "          data: base64,\n",
              "        },\n",
              "      };\n",
              "\n",
              "      let percentDone = fileData.byteLength === 0 ?\n",
              "          100 :\n",
              "          Math.round((position / fileData.byteLength) * 100);\n",
              "      percent.textContent = `${percentDone}% done`;\n",
              "\n",
              "    } while (position < fileData.byteLength);\n",
              "  }\n",
              "\n",
              "  // All done.\n",
              "  yield {\n",
              "    response: {\n",
              "      action: 'complete',\n",
              "    }\n",
              "  };\n",
              "}\n",
              "\n",
              "scope.google = scope.google || {};\n",
              "scope.google.colab = scope.google.colab || {};\n",
              "scope.google.colab._files = {\n",
              "  _uploadFiles,\n",
              "  _uploadFilesContinue,\n",
              "};\n",
              "})(self);\n",
              "</script> "
            ]
          },
          "metadata": {}
        },
        {
          "output_type": "stream",
          "name": "stdout",
          "text": [
            "Saving benchmark_cpu.json to benchmark_cpu.json\n"
          ]
        },
        {
          "output_type": "display_data",
          "data": {
            "text/plain": [
              "<IPython.core.display.HTML object>"
            ],
            "text/html": [
              "\n",
              "     <input type=\"file\" id=\"files-52007e3c-d76b-4bad-a4e8-a187a1ad6ad6\" name=\"files[]\" multiple disabled\n",
              "        style=\"border:none\" />\n",
              "     <output id=\"result-52007e3c-d76b-4bad-a4e8-a187a1ad6ad6\">\n",
              "      Upload widget is only available when the cell has been executed in the\n",
              "      current browser session. Please rerun this cell to enable.\n",
              "      </output>\n",
              "      <script>// Copyright 2017 Google LLC\n",
              "//\n",
              "// Licensed under the Apache License, Version 2.0 (the \"License\");\n",
              "// you may not use this file except in compliance with the License.\n",
              "// You may obtain a copy of the License at\n",
              "//\n",
              "//      http://www.apache.org/licenses/LICENSE-2.0\n",
              "//\n",
              "// Unless required by applicable law or agreed to in writing, software\n",
              "// distributed under the License is distributed on an \"AS IS\" BASIS,\n",
              "// WITHOUT WARRANTIES OR CONDITIONS OF ANY KIND, either express or implied.\n",
              "// See the License for the specific language governing permissions and\n",
              "// limitations under the License.\n",
              "\n",
              "/**\n",
              " * @fileoverview Helpers for google.colab Python module.\n",
              " */\n",
              "(function(scope) {\n",
              "function span(text, styleAttributes = {}) {\n",
              "  const element = document.createElement('span');\n",
              "  element.textContent = text;\n",
              "  for (const key of Object.keys(styleAttributes)) {\n",
              "    element.style[key] = styleAttributes[key];\n",
              "  }\n",
              "  return element;\n",
              "}\n",
              "\n",
              "// Max number of bytes which will be uploaded at a time.\n",
              "const MAX_PAYLOAD_SIZE = 100 * 1024;\n",
              "\n",
              "function _uploadFiles(inputId, outputId) {\n",
              "  const steps = uploadFilesStep(inputId, outputId);\n",
              "  const outputElement = document.getElementById(outputId);\n",
              "  // Cache steps on the outputElement to make it available for the next call\n",
              "  // to uploadFilesContinue from Python.\n",
              "  outputElement.steps = steps;\n",
              "\n",
              "  return _uploadFilesContinue(outputId);\n",
              "}\n",
              "\n",
              "// This is roughly an async generator (not supported in the browser yet),\n",
              "// where there are multiple asynchronous steps and the Python side is going\n",
              "// to poll for completion of each step.\n",
              "// This uses a Promise to block the python side on completion of each step,\n",
              "// then passes the result of the previous step as the input to the next step.\n",
              "function _uploadFilesContinue(outputId) {\n",
              "  const outputElement = document.getElementById(outputId);\n",
              "  const steps = outputElement.steps;\n",
              "\n",
              "  const next = steps.next(outputElement.lastPromiseValue);\n",
              "  return Promise.resolve(next.value.promise).then((value) => {\n",
              "    // Cache the last promise value to make it available to the next\n",
              "    // step of the generator.\n",
              "    outputElement.lastPromiseValue = value;\n",
              "    return next.value.response;\n",
              "  });\n",
              "}\n",
              "\n",
              "/**\n",
              " * Generator function which is called between each async step of the upload\n",
              " * process.\n",
              " * @param {string} inputId Element ID of the input file picker element.\n",
              " * @param {string} outputId Element ID of the output display.\n",
              " * @return {!Iterable<!Object>} Iterable of next steps.\n",
              " */\n",
              "function* uploadFilesStep(inputId, outputId) {\n",
              "  const inputElement = document.getElementById(inputId);\n",
              "  inputElement.disabled = false;\n",
              "\n",
              "  const outputElement = document.getElementById(outputId);\n",
              "  outputElement.innerHTML = '';\n",
              "\n",
              "  const pickedPromise = new Promise((resolve) => {\n",
              "    inputElement.addEventListener('change', (e) => {\n",
              "      resolve(e.target.files);\n",
              "    });\n",
              "  });\n",
              "\n",
              "  const cancel = document.createElement('button');\n",
              "  inputElement.parentElement.appendChild(cancel);\n",
              "  cancel.textContent = 'Cancel upload';\n",
              "  const cancelPromise = new Promise((resolve) => {\n",
              "    cancel.onclick = () => {\n",
              "      resolve(null);\n",
              "    };\n",
              "  });\n",
              "\n",
              "  // Wait for the user to pick the files.\n",
              "  const files = yield {\n",
              "    promise: Promise.race([pickedPromise, cancelPromise]),\n",
              "    response: {\n",
              "      action: 'starting',\n",
              "    }\n",
              "  };\n",
              "\n",
              "  cancel.remove();\n",
              "\n",
              "  // Disable the input element since further picks are not allowed.\n",
              "  inputElement.disabled = true;\n",
              "\n",
              "  if (!files) {\n",
              "    return {\n",
              "      response: {\n",
              "        action: 'complete',\n",
              "      }\n",
              "    };\n",
              "  }\n",
              "\n",
              "  for (const file of files) {\n",
              "    const li = document.createElement('li');\n",
              "    li.append(span(file.name, {fontWeight: 'bold'}));\n",
              "    li.append(span(\n",
              "        `(${file.type || 'n/a'}) - ${file.size} bytes, ` +\n",
              "        `last modified: ${\n",
              "            file.lastModifiedDate ? file.lastModifiedDate.toLocaleDateString() :\n",
              "                                    'n/a'} - `));\n",
              "    const percent = span('0% done');\n",
              "    li.appendChild(percent);\n",
              "\n",
              "    outputElement.appendChild(li);\n",
              "\n",
              "    const fileDataPromise = new Promise((resolve) => {\n",
              "      const reader = new FileReader();\n",
              "      reader.onload = (e) => {\n",
              "        resolve(e.target.result);\n",
              "      };\n",
              "      reader.readAsArrayBuffer(file);\n",
              "    });\n",
              "    // Wait for the data to be ready.\n",
              "    let fileData = yield {\n",
              "      promise: fileDataPromise,\n",
              "      response: {\n",
              "        action: 'continue',\n",
              "      }\n",
              "    };\n",
              "\n",
              "    // Use a chunked sending to avoid message size limits. See b/62115660.\n",
              "    let position = 0;\n",
              "    do {\n",
              "      const length = Math.min(fileData.byteLength - position, MAX_PAYLOAD_SIZE);\n",
              "      const chunk = new Uint8Array(fileData, position, length);\n",
              "      position += length;\n",
              "\n",
              "      const base64 = btoa(String.fromCharCode.apply(null, chunk));\n",
              "      yield {\n",
              "        response: {\n",
              "          action: 'append',\n",
              "          file: file.name,\n",
              "          data: base64,\n",
              "        },\n",
              "      };\n",
              "\n",
              "      let percentDone = fileData.byteLength === 0 ?\n",
              "          100 :\n",
              "          Math.round((position / fileData.byteLength) * 100);\n",
              "      percent.textContent = `${percentDone}% done`;\n",
              "\n",
              "    } while (position < fileData.byteLength);\n",
              "  }\n",
              "\n",
              "  // All done.\n",
              "  yield {\n",
              "    response: {\n",
              "      action: 'complete',\n",
              "    }\n",
              "  };\n",
              "}\n",
              "\n",
              "scope.google = scope.google || {};\n",
              "scope.google.colab = scope.google.colab || {};\n",
              "scope.google.colab._files = {\n",
              "  _uploadFiles,\n",
              "  _uploadFilesContinue,\n",
              "};\n",
              "})(self);\n",
              "</script> "
            ]
          },
          "metadata": {}
        },
        {
          "output_type": "stream",
          "name": "stdout",
          "text": [
            "Saving benchmark_gpu.json to benchmark_gpu (1).json\n"
          ]
        }
      ]
    },
    {
      "cell_type": "code",
      "source": [
        "import matplotlib.pyplot as plt\n",
        "import pandas as pd\n",
        "\n",
        "# --------------------------------------------\n",
        "# Convert benchmark result lists to DataFrames\n",
        "# --------------------------------------------\n",
        "df_cpu = pd.DataFrame(cpu)  # List of dicts for CPU run\n",
        "df_gpu = pd.DataFrame(gpu)  # List of dicts for GPU run\n",
        "# df_tpu = pd.DataFrame(tpu)  # Optional: TPU benchmark\n",
        "\n",
        "# Add device labels\n",
        "df_cpu['device'] = 'CPU'\n",
        "df_gpu['device'] = 'GPU'\n",
        "# df_tpu['device'] = 'TPU'\n",
        "\n",
        "# Combine all device benchmarks into a single DataFrame\n",
        "# df_all = pd.concat([df_cpu, df_gpu, df_tpu])\n",
        "df_all = pd.concat([df_cpu, df_gpu])\n",
        "\n",
        "# Preview data for debugging\n",
        "print(df_all.head())"
      ],
      "metadata": {
        "colab": {
          "base_uri": "https://localhost:8080/"
        },
        "id": "4Xr9ACgp7mP0",
        "outputId": "fdb795d9-391c-4153-924d-2b0ee0617b2a"
      },
      "execution_count": 17,
      "outputs": [
        {
          "output_type": "stream",
          "name": "stdout",
          "text": [
            "               step   runtime device\n",
            "0              auth  8.947842    CPU\n",
            "1  fetch_top_tracks  0.253736    CPU\n",
            "2  download_dataset  7.312022    CPU\n",
            "3            read()  0.000625    CPU\n",
            "4        readline()  0.000277    CPU\n"
          ]
        }
      ]
    },
    {
      "cell_type": "markdown",
      "source": [
        "## STEP 12: Benchmark Runtime Visualization (Log Scale)"
      ],
      "metadata": {
        "id": "F5xLONXn8YY0"
      }
    },
    {
      "cell_type": "code",
      "source": [
        "import matplotlib.pyplot as plt\n",
        "import matplotlib.ticker as ticker\n",
        "\n",
        "# --------------------------------------------\n",
        "# Pivot data so each step has runtime for both devices (columns)\n",
        "# --------------------------------------------\n",
        "pivot = df_all.pivot(index='step', columns='device', values='runtime')\n",
        "\n",
        "# Plot runtime comparison as bar chart with log scale\n",
        "pivot.plot(kind='bar', figsize=(12, 6), logy=True)\n",
        "\n",
        "# --------------------------------------------\n",
        "# Customize Y-axis (log scale formatting)\n",
        "# --------------------------------------------\n",
        "ax = plt.gca()\n",
        "ax.yaxis.set_major_formatter(ticker.FuncFormatter(lambda y, _: f'{y:g}'))\n",
        "\n",
        "# --------------------------------------------\n",
        "# Set axis labels and styling\n",
        "# --------------------------------------------\n",
        "plt.ylabel(\"Runtime (seconds, log scale)\", fontsize=12)\n",
        "plt.title(\"Benchmark Comparison: CPU vs GPU\", fontsize=14)\n",
        "plt.xticks(rotation=30, ha='right', fontsize=10)\n",
        "plt.yticks(fontsize=10)\n",
        "\n",
        "# Add horizontal grid lines for readability\n",
        "plt.grid(True, which=\"major\", axis=\"y\", linestyle='--', linewidth=0.5)\n",
        "\n",
        "# Add legend above the chart\n",
        "plt.legend(title=\"Device\", loc=\"upper center\", bbox_to_anchor=(0.5, 1.05), ncol=3)\n",
        "\n",
        "# Optimize layout\n",
        "plt.tight_layout()\n",
        "\n",
        "# Display plot\n",
        "plt.show()"
      ],
      "metadata": {
        "colab": {
          "base_uri": "https://localhost:8080/",
          "height": 351
        },
        "id": "DWfze02z7_9J",
        "outputId": "b80e433e-e597-49d6-f34f-91f36ff3db7a"
      },
      "execution_count": 18,
      "outputs": [
        {
          "output_type": "display_data",
          "data": {
            "text/plain": [
              "<Figure size 1200x600 with 1 Axes>"
            ],
            "image/png": "[encoded data removed]"
          },
          "metadata": {}
        }
      ]
    }
  ]
}